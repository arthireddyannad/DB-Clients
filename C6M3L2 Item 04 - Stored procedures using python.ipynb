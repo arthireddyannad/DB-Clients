{
 "cells": [
  {
   "cell_type": "markdown",
   "source": [
    "## C6M3L2 Item 04 – Stored procedures using python"
   ],
   "metadata": {}
  },
  {
   "cell_type": "markdown",
   "source": [
    "## Prerequisites: \n",
    "\n",
    "To complete this exercise, you must have access to the `little_lemon` database. As an authorized user, you need to establish a connection between Python and the database via the MySQL Connector/Python API and create a `cursor` object using the following code: "
   ],
   "metadata": {}
  },
  {
   "cell_type": "code",
   "execution_count": 1,
   "source": [
    "import mysql.connector as connector"
   ],
   "outputs": [],
   "metadata": {}
  },
  {
   "cell_type": "code",
   "execution_count": 2,
   "source": [
    "# Establish connection b/w Python and MySQL database via connector API\n",
    "connection=connector.connect(\n",
    "                             user=\"root\", # use your own\n",
    "                             password=\"\", # use your own\n",
    "                            )"
   ],
   "outputs": [],
   "metadata": {}
  },
  {
   "cell_type": "code",
   "execution_count": 3,
   "source": [
    "# Create a cursor object to communicate with entire MySQL database\n",
    "cursor = connection.cursor()"
   ],
   "outputs": [],
   "metadata": {}
  },
  {
   "cell_type": "markdown",
   "source": [
    "Once, the connection is established, and you have a cursor object, you can select the database `little_lemon` using the code below and work with the respective table to accomplish the required tasks. "
   ],
   "metadata": {}
  },
  {
   "cell_type": "code",
   "execution_count": 4,
   "source": [
    "# Set the little_lemon database for use \n",
    "cursor.execute(\"use little_lemon\")\n",
    "\n",
    "# Confirm the database in use\n",
    "connection.database"
   ],
   "outputs": [
    {
     "output_type": "execute_result",
     "data": {
      "text/plain": [
       "'little_lemon'"
      ]
     },
     "metadata": {},
     "execution_count": 4
    }
   ],
   "metadata": {}
  },
  {
   "cell_type": "markdown",
   "source": [
    "## Scenario: \n",
    "\n",
    "Little lemon need to perform some tasks on daily basis, and they involve extracting data from one or more tables. The tasks include finding the guest with maximum spending, retrieving the bookings for no arrival, and displaying the order status to the guests. To keep consistency during the data retrieval process, Little Lemon is interested to implement the required tasks using stored procedures. You can help Little Lemon and create stored procedures so that they can call them according to their requirements in their python-based application. "
   ],
   "metadata": {}
  },
  {
   "cell_type": "markdown",
   "source": [
    "## Task 1:\n",
    "\n",
    "Little lemon is running a marketing campaign this month. They need to issue a discount coupon to the top spender on daily bases. Create a stored procedure `TopSpender` that can retrieve the booking ID, guest’s full name, and the bill amount of the top spender at closing. Call the procedure and print the results.   \n",
    "\n",
    "**TIP:** Target `BookingID`, `GusetFistName`, `GuestLastName` and `BillAmount` columns from the `Bookings` and the `Orders` tables. Use the concatenation function to get the guest’s full name. Join the two tables and retrieve the top spender. Create a stored procedure, call it by its name using python and print the results. "
   ],
   "metadata": {}
  },
  {
   "cell_type": "code",
   "execution_count": 12,
   "source": [
    "cursor.execute(\"DROP PROCEDURE IF EXISTS TopSpender;\")"
   ],
   "outputs": [],
   "metadata": {}
  },
  {
   "cell_type": "code",
   "execution_count": 13,
   "source": [
    "# Task 1\n",
    "# Stored procedure name >> TopSpender\n",
    "# Our stored procedure query is\n",
    "stored_procedure_query=\"\"\"\n",
    "CREATE PROCEDURE TopSpender()\n",
    "\n",
    "BEGIN\n",
    "\n",
    "SELECT Bookings.BookingID, \n",
    "CONCAT(\n",
    "Bookings.GuestFirstname,\n",
    "' ',\n",
    "Bookings.GuestLastname\n",
    ") AS CustomerName,\n",
    "Orders.BillAmount \n",
    "FROM Bookings\n",
    "INNER JOIN\n",
    "Orders ON Bookings.BookingID=Orders.BookingID\n",
    "ORDER BY BillAmount DESC LIMIT 1;\n",
    "\n",
    "END\n",
    "\n",
    "\"\"\"\n",
    "\n",
    "# Execute the query\n",
    "cursor.execute(stored_procedure_query)\n",
    "\n",
    "#********************************************#\n",
    "\n",
    "# Call the stored procedure with its name\n",
    "cursor.callproc(\"TopSpender\")\n",
    "\n",
    "# Retrieve recrods in \"dataset\"\n",
    "results = next( cursor.stored_results() )\n",
    "dataset = results.fetchall()\n",
    "\n",
    "# Retrieve column names using list comprehension in a 'for' loop \n",
    "for column_id in cursor.stored_results():\n",
    "    columns = [ column[0] for column in column_id.description ]\n",
    "\n",
    "# Print column names\n",
    "print(columns)\n",
    "\n",
    "# Print data \n",
    "for data in dataset:\n",
    "    print(data)"
   ],
   "outputs": [
    {
     "output_type": "stream",
     "name": "stdout",
     "text": [
      "['BookingID', 'CustomerName', 'BillAmount']\n",
      "(1, 'Anna Iversen', 86)\n"
     ]
    }
   ],
   "metadata": {}
  },
  {
   "cell_type": "markdown",
   "source": [
    "## Task 2:\n",
    "\n",
    "Help Little Lemon to retrieve all those bookings where the guests did not appear today. How will you implement this task using a stored procedure? Use `NoArrival` as a name for your stored procedure.  \n",
    "\n",
    "TIP: Target the `Orders` and the `Bookings` tables, join them on `BookingID` and retrieve the records with a `NULL` value in the bill amount. Create a stored procedure, call it by its name using python and print the results."
   ],
   "metadata": {}
  },
  {
   "cell_type": "code",
   "execution_count": 23,
   "source": [
    "cursor.execute(\"DROP PROCEDURE IF EXISTS NoArrival;\")"
   ],
   "outputs": [],
   "metadata": {}
  },
  {
   "cell_type": "code",
   "execution_count": 24,
   "source": [
    "# Task 2\n",
    "# Stored procedure name >> NoArrival\n",
    "# Our stored procedure query is\n",
    "stored_procedure_query=\"\"\"\n",
    "CREATE PROCEDURE NoArrival()\n",
    "\n",
    "BEGIN\n",
    "\n",
    "SELECT Bookings.BookingID, \n",
    "Orders.BillAmount \n",
    "FROM Bookings\n",
    "LEFT JOIN\n",
    "Orders ON Bookings.BookingID=Orders.BookingID\n",
    "WHERE BillAmount IS NULL;\n",
    "\n",
    "END\n",
    "\n",
    "\"\"\"\n",
    "\n",
    "# Execute the query \n",
    "cursor.execute(stored_procedure_query)\n",
    "\n",
    "#********************************************#\n",
    "\n",
    "# Call the stored procedure with its name\n",
    "cursor.callproc(\"NoArrival\")\n",
    "\n",
    "# Retrieve recrods in \"dataset\"\n",
    "results = next( cursor.stored_results() )\n",
    "dataset = results.fetchall()\n",
    "\n",
    "# Retrieve column names using list comprehension in a 'for' loop \n",
    "for column_id in cursor.stored_results():\n",
    "    columns = [ column[0] for column in column_id.description ]\n",
    "\n",
    "# Print column names\n",
    "print(columns)\n",
    "\n",
    "# Print data \n",
    "for data in dataset:\n",
    "    print(data)"
   ],
   "outputs": [
    {
     "output_type": "stream",
     "name": "stdout",
     "text": [
      "['BookingID', 'BillAmount']\n",
      "(6, None)\n"
     ]
    }
   ],
   "metadata": {}
  },
  {
   "cell_type": "code",
   "execution_count": 25,
   "source": [
    "cursor.stored_results()"
   ],
   "outputs": [
    {
     "output_type": "execute_result",
     "data": {
      "text/plain": [
       "<generator object CMySQLCursor.stored_results at 0x7f9c547cbac0>"
      ]
     },
     "metadata": {},
     "execution_count": 25
    }
   ],
   "metadata": {}
  },
  {
   "cell_type": "code",
   "execution_count": 26,
   "source": [
    "\n",
    "cursor.callproc(\"NoArrival\")\n",
    "results = next( cursor.stored_results() )\n",
    "results#.fetchall()"
   ],
   "outputs": [
    {
     "output_type": "execute_result",
     "data": {
      "text/plain": [
       "<mysql.connector.cursor_cext.CMySQLCursorBuffered at 0x7f9c54a01fd0>"
      ]
     },
     "metadata": {},
     "execution_count": 26
    }
   ],
   "metadata": {}
  },
  {
   "cell_type": "code",
   "execution_count": 27,
   "source": [
    "type(results)"
   ],
   "outputs": [
    {
     "output_type": "execute_result",
     "data": {
      "text/plain": [
       "mysql.connector.cursor_cext.CMySQLCursorBuffered"
      ]
     },
     "metadata": {},
     "execution_count": 27
    }
   ],
   "metadata": {}
  },
  {
   "cell_type": "code",
   "execution_count": 28,
   "source": [
    "cursor.stored_results()"
   ],
   "outputs": [
    {
     "output_type": "execute_result",
     "data": {
      "text/plain": [
       "<generator object CMySQLCursor.stored_results at 0x7f9c547cbf20>"
      ]
     },
     "metadata": {},
     "execution_count": 28
    }
   ],
   "metadata": {}
  },
  {
   "cell_type": "markdown",
   "source": [
    "## Task 3:\n",
    "\n",
    "It is very important for little lemon to keep track of the status of each guest’s order and display it on the screen to keep their guests informed.  \n",
    "\n",
    "This is how they categorize the orders: \n",
    "\n",
    "* If not assigned to any employee, the status is `In Queue` \n",
    "* If assigned to the employees with IDs 4 and 5, the status is `Preparing Order` \n",
    "* If assigned to the employees with IDs 1, 2, and 3, the status is `Order Served` \n",
    "\n",
    "Create a stored procedure named `OrderStatus` for the above task and call to check if everything is working.  \n",
    "\n",
    "**TIP:** Target `EmployeeID` column in the `Bookings` table and use the `CASE` function in your stored procedure query. Create a stored procedure, call it by its name using python and print the results.  "
   ],
   "metadata": {}
  },
  {
   "cell_type": "code",
   "execution_count": 29,
   "source": [
    "cursor.execute(\"DROP PROCEDURE IF EXISTS OrderStatus;\")"
   ],
   "outputs": [],
   "metadata": {}
  },
  {
   "cell_type": "code",
   "execution_count": 30,
   "source": [
    "# Task 3\n",
    "# Stored procedure name >> OrderStatus\n",
    "# Our stored procedure query is\n",
    "stored_procedure_query=\"\"\"\n",
    "CREATE PROCEDURE OrderStatus()\n",
    "\n",
    "BEGIN\n",
    "\n",
    "SELECT bookingID, \n",
    "CASE\n",
    "WHEN employeeID IN (1,2,3) THEN \"Order Served\" \n",
    "WHEN employeeID IN (4,5) THEN \"Preparing Order\" \n",
    "ELSE \"In Queue\" \n",
    "END AS Status\n",
    "FROM Bookings;\n",
    "\n",
    "END\n",
    "\n",
    "\"\"\"\n",
    "\n",
    "# Execute the query\n",
    "cursor.execute(stored_procedure_query)\n",
    "\n",
    "#********************************************#\n",
    "\n",
    "# Call the stored procedure with its name\n",
    "cursor.callproc(\"OrderStatus\")\n",
    "\n",
    "# Retrieve recrods in \"dataset\"\n",
    "results = next( cursor.stored_results() )\n",
    "dataset = results.fetchall()\n",
    "\n",
    "# Retrieve column names using list comprehension in a 'for' loop \n",
    "for column_id in cursor.stored_results():\n",
    "    columns = [ column[0] for column in column_id.description ]\n",
    "\n",
    "# Print column names\n",
    "print(columns)\n",
    "\n",
    "# Print data \n",
    "for data in dataset:\n",
    "    print(data)"
   ],
   "outputs": [
    {
     "output_type": "stream",
     "name": "stdout",
     "text": [
      "['bookingID', 'Status']\n",
      "(1, 'Order Served')\n",
      "(2, 'Order Served')\n",
      "(3, 'Order Served')\n",
      "(4, 'Preparing Order')\n",
      "(5, 'Order Served')\n",
      "(6, 'Preparing Order')\n"
     ]
    }
   ],
   "metadata": {}
  },
  {
   "cell_type": "code",
   "execution_count": 31,
   "source": [
    "# Let's close the cursor and the connection\n",
    "if connection.is_connected():\n",
    "    cursor.close()\n",
    "    print(\"The cursor is closed.\")\n",
    "    connection.close()\n",
    "    print(\"MySQL connection is closed.\")\n",
    "else:\n",
    "    print(\"Connection is already closed\")"
   ],
   "outputs": [
    {
     "output_type": "stream",
     "name": "stdout",
     "text": [
      "The cursor is closed.\n",
      "MySQL connection is closed.\n"
     ]
    }
   ],
   "metadata": {}
  }
 ],
 "metadata": {
  "kernelspec": {
   "name": "python3",
   "display_name": "Python 3.8.10 64-bit"
  },
  "language_info": {
   "codemirror_mode": {
    "name": "ipython",
    "version": 3
   },
   "file_extension": ".py",
   "mimetype": "text/x-python",
   "name": "python",
   "nbconvert_exporter": "python",
   "pygments_lexer": "ipython3",
   "version": "3.8.10"
  },
  "interpreter": {
   "hash": "31f2aee4e71d21fbe5cf8b01ff0e069b9275f58929596ceb00d14d90e3e16cd6"
  }
 },
 "nbformat": 4,
 "nbformat_minor": 4
}